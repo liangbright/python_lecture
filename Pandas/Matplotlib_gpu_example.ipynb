{
 "cells": [
  {
   "cell_type": "code",
   "execution_count": 1,
   "metadata": {},
   "outputs": [],
   "source": [
    "%matplotlib inline\n",
    "import pandas as pd\n",
    "import matplotlib.pyplot as plt\n",
    "import numpy as np"
   ]
  },
  {
   "cell_type": "code",
   "execution_count": 2,
   "metadata": {},
   "outputs": [
    {
     "data": {
      "text/html": [
       "<div>\n",
       "<style scoped>\n",
       "    .dataframe tbody tr th:only-of-type {\n",
       "        vertical-align: middle;\n",
       "    }\n",
       "\n",
       "    .dataframe tbody tr th {\n",
       "        vertical-align: top;\n",
       "    }\n",
       "\n",
       "    .dataframe thead th {\n",
       "        text-align: right;\n",
       "    }\n",
       "</style>\n",
       "<table border=\"1\" class=\"dataframe\">\n",
       "  <thead>\n",
       "    <tr style=\"text-align: right;\">\n",
       "      <th></th>\n",
       "      <th>GPU_Name</th>\n",
       "      <th>RAM_Size</th>\n",
       "      <th>Memory_Bandwidth</th>\n",
       "      <th>Processing_Power</th>\n",
       "      <th>Price</th>\n",
       "    </tr>\n",
       "  </thead>\n",
       "  <tbody>\n",
       "    <tr>\n",
       "      <th>0</th>\n",
       "      <td>Titan-XP</td>\n",
       "      <td>12</td>\n",
       "      <td>547.7</td>\n",
       "      <td>5.683200</td>\n",
       "      <td>1200</td>\n",
       "    </tr>\n",
       "    <tr>\n",
       "      <th>1</th>\n",
       "      <td>GTX-1080-Ti</td>\n",
       "      <td>11</td>\n",
       "      <td>484.0</td>\n",
       "      <td>5.669888</td>\n",
       "      <td>700</td>\n",
       "    </tr>\n",
       "    <tr>\n",
       "      <th>2</th>\n",
       "      <td>GTX-1080</td>\n",
       "      <td>8</td>\n",
       "      <td>320.0</td>\n",
       "      <td>4.436480</td>\n",
       "      <td>550</td>\n",
       "    </tr>\n",
       "    <tr>\n",
       "      <th>3</th>\n",
       "      <td>GTX-1070-Ti</td>\n",
       "      <td>8</td>\n",
       "      <td>256.0</td>\n",
       "      <td>4.093056</td>\n",
       "      <td>450</td>\n",
       "    </tr>\n",
       "    <tr>\n",
       "      <th>4</th>\n",
       "      <td>GTX-1070</td>\n",
       "      <td>8</td>\n",
       "      <td>256.0</td>\n",
       "      <td>3.231360</td>\n",
       "      <td>400</td>\n",
       "    </tr>\n",
       "    <tr>\n",
       "      <th>5</th>\n",
       "      <td>GTX-1060</td>\n",
       "      <td>6</td>\n",
       "      <td>216.0</td>\n",
       "      <td>2.186240</td>\n",
       "      <td>300</td>\n",
       "    </tr>\n",
       "    <tr>\n",
       "      <th>6</th>\n",
       "      <td>GTX-1050-Ti</td>\n",
       "      <td>4</td>\n",
       "      <td>112.0</td>\n",
       "      <td>1.483776</td>\n",
       "      <td>160</td>\n",
       "    </tr>\n",
       "  </tbody>\n",
       "</table>\n",
       "</div>"
      ],
      "text/plain": [
       "      GPU_Name  RAM_Size  Memory_Bandwidth  Processing_Power  Price\n",
       "0     Titan-XP        12             547.7          5.683200   1200\n",
       "1  GTX-1080-Ti        11             484.0          5.669888    700\n",
       "2     GTX-1080         8             320.0          4.436480    550\n",
       "3  GTX-1070-Ti         8             256.0          4.093056    450\n",
       "4     GTX-1070         8             256.0          3.231360    400\n",
       "5     GTX-1060         6             216.0          2.186240    300\n",
       "6  GTX-1050-Ti         4             112.0          1.483776    160"
      ]
     },
     "execution_count": 2,
     "metadata": {},
     "output_type": "execute_result"
    }
   ],
   "source": [
    "data = pd.read_csv('buy_gpu.csv')\n",
    "data"
   ]
  },
  {
   "cell_type": "code",
   "execution_count": 3,
   "metadata": {},
   "outputs": [
    {
     "data": {
      "text/html": [
       "<div>\n",
       "<style scoped>\n",
       "    .dataframe tbody tr th:only-of-type {\n",
       "        vertical-align: middle;\n",
       "    }\n",
       "\n",
       "    .dataframe tbody tr th {\n",
       "        vertical-align: top;\n",
       "    }\n",
       "\n",
       "    .dataframe thead th {\n",
       "        text-align: right;\n",
       "    }\n",
       "</style>\n",
       "<table border=\"1\" class=\"dataframe\">\n",
       "  <thead>\n",
       "    <tr style=\"text-align: right;\">\n",
       "      <th></th>\n",
       "      <th>GPU_Name</th>\n",
       "      <th>RAM_Size</th>\n",
       "      <th>Memory_Bandwidth</th>\n",
       "      <th>Processing_Power</th>\n",
       "      <th>Price</th>\n",
       "    </tr>\n",
       "  </thead>\n",
       "  <tbody>\n",
       "    <tr>\n",
       "      <th>0</th>\n",
       "      <td>Titan-XP</td>\n",
       "      <td>12</td>\n",
       "      <td>547.7</td>\n",
       "      <td>5.683200</td>\n",
       "      <td>1200</td>\n",
       "    </tr>\n",
       "    <tr>\n",
       "      <th>1</th>\n",
       "      <td>GTX-1080-Ti</td>\n",
       "      <td>11</td>\n",
       "      <td>484.0</td>\n",
       "      <td>5.669888</td>\n",
       "      <td>700</td>\n",
       "    </tr>\n",
       "    <tr>\n",
       "      <th>2</th>\n",
       "      <td>GTX-1080</td>\n",
       "      <td>8</td>\n",
       "      <td>320.0</td>\n",
       "      <td>4.436480</td>\n",
       "      <td>550</td>\n",
       "    </tr>\n",
       "    <tr>\n",
       "      <th>3</th>\n",
       "      <td>GTX-1070-Ti</td>\n",
       "      <td>8</td>\n",
       "      <td>256.0</td>\n",
       "      <td>4.093056</td>\n",
       "      <td>450</td>\n",
       "    </tr>\n",
       "    <tr>\n",
       "      <th>4</th>\n",
       "      <td>GTX-1070</td>\n",
       "      <td>8</td>\n",
       "      <td>256.0</td>\n",
       "      <td>3.231360</td>\n",
       "      <td>400</td>\n",
       "    </tr>\n",
       "  </tbody>\n",
       "</table>\n",
       "</div>"
      ],
      "text/plain": [
       "      GPU_Name  RAM_Size  Memory_Bandwidth  Processing_Power  Price\n",
       "0     Titan-XP        12             547.7          5.683200   1200\n",
       "1  GTX-1080-Ti        11             484.0          5.669888    700\n",
       "2     GTX-1080         8             320.0          4.436480    550\n",
       "3  GTX-1070-Ti         8             256.0          4.093056    450\n",
       "4     GTX-1070         8             256.0          3.231360    400"
      ]
     },
     "execution_count": 3,
     "metadata": {},
     "output_type": "execute_result"
    }
   ],
   "source": [
    "data.head()"
   ]
  },
  {
   "cell_type": "code",
   "execution_count": 4,
   "metadata": {},
   "outputs": [],
   "source": [
    "GPU_Name=data['GPU_Name'].values\n",
    "RAM_Size=data['RAM_Size'].values/2\n",
    "Memory_Bandwidth=data['Memory_Bandwidth'].values/100\n",
    "Processing_Power=data['Processing_Power'].values\n",
    "Price=data['Price'].values"
   ]
  },
  {
   "cell_type": "code",
   "execution_count": 5,
   "metadata": {},
   "outputs": [
    {
     "name": "stderr",
     "output_type": "stream",
     "text": [
      "C:\\Users\\Administrator\\AppData\\Local\\Temp\\ipykernel_14952\\1603512609.py:22: UserWarning: Matplotlib is currently using module://matplotlib_inline.backend_inline, which is a non-GUI backend, so cannot show the figure.\n",
      "  fig.show()\n"
     ]
    },
    {
     "data": {
      "text/plain": [
       "<matplotlib.legend.Legend at 0x22df8e9b130>"
      ]
     },
     "execution_count": 5,
     "metadata": {},
     "output_type": "execute_result"
    },
    {
     "data": {
      "image/png": "[encoded data removed]",
      "text/plain": [
       "<Figure size 640x480 with 1 Axes>"
      ]
     },
     "metadata": {},
     "output_type": "display_data"
    },
    {
     "data": {
      "image/png": "[encoded data removed]",
      "text/plain": [
       "<Figure size 640x480 with 1 Axes>"
      ]
     },
     "metadata": {},
     "output_type": "display_data"
    }
   ],
   "source": [
    "#------------------------- GPU Performance ---------------------------------\n",
    "n_groups = 7\n",
    "\n",
    "fig, ax = plt.subplots()\n",
    "\n",
    "index = np.arange(n_groups)\n",
    "bar_width = 0.3 # change it to 0.1\n",
    "\n",
    "opacity = 1\n",
    "rects1 = ax.bar(index, RAM_Size, bar_width, alpha=opacity, color='r', label='RAM Size')\n",
    "rects2 = ax.bar(index+bar_width, Memory_Bandwidth, bar_width, alpha=opacity, color='b', label='Memory Bandwidth')\n",
    "rects3 = ax.bar(index+2*bar_width, Processing_Power, bar_width, alpha=opacity, color='g', label='Processing Power')\n",
    "\n",
    "#ax.set_xlabel('Group')\n",
    "#ax.set_ylabel('Scores')\n",
    "ax.set_title('GPU Performance')\n",
    "ax.set_xticks(index + bar_width / 2)\n",
    "ax.set_xticklabels(GPU_Name)\n",
    "ax.legend()\n",
    "\n",
    "fig.tight_layout()\n",
    "fig.show()\n",
    "\n",
    "#------------------------- GPU Performance per $ ---------------------------------\n",
    "fig, ax = plt.subplots()\n",
    "index = np.arange(n_groups)\n",
    "bar_width = 0.3 # change it to 0.1\n",
    "opacity = 1\n",
    "rects1 = ax.bar(index, RAM_Size/Price, bar_width, alpha=opacity, color='r', label='RAM Size per $')\n",
    "rects2 = ax.bar(index+bar_width, Memory_Bandwidth/Price, bar_width, alpha=opacity, color='b', label='Memory Bandwidth per $')\n",
    "rects3 = ax.bar(index+2*bar_width, Processing_Power/Price, bar_width, alpha=opacity, color='g', label='Processing Power per $')\n",
    "\n",
    "#ax.set_xlabel('Group')\n",
    "#ax.set_ylabel('Scores')\n",
    "ax.set_title('GPU Performance per $')\n",
    "ax.set_xticks(index + bar_width / 2)\n",
    "ax.set_xticklabels(GPU_Name)\n",
    "ax.legend()\n",
    "#fig.show()"
   ]
  },
  {
   "cell_type": "markdown",
   "metadata": {},
   "source": [
    "note: go back to the slides"
   ]
  },
  {
   "cell_type": "markdown",
   "metadata": {},
   "source": [
    "### about the dataframe"
   ]
  },
  {
   "cell_type": "code",
   "execution_count": 6,
   "metadata": {},
   "outputs": [
    {
     "data": {
      "text/html": [
       "<div>\n",
       "<style scoped>\n",
       "    .dataframe tbody tr th:only-of-type {\n",
       "        vertical-align: middle;\n",
       "    }\n",
       "\n",
       "    .dataframe tbody tr th {\n",
       "        vertical-align: top;\n",
       "    }\n",
       "\n",
       "    .dataframe thead th {\n",
       "        text-align: right;\n",
       "    }\n",
       "</style>\n",
       "<table border=\"1\" class=\"dataframe\">\n",
       "  <thead>\n",
       "    <tr style=\"text-align: right;\">\n",
       "      <th></th>\n",
       "      <th>GPU_Name</th>\n",
       "      <th>RAM_Size</th>\n",
       "      <th>Memory_Bandwidth</th>\n",
       "      <th>Processing_Power</th>\n",
       "      <th>Price</th>\n",
       "    </tr>\n",
       "  </thead>\n",
       "  <tbody>\n",
       "    <tr>\n",
       "      <th>0</th>\n",
       "      <td>Titan-XP</td>\n",
       "      <td>12</td>\n",
       "      <td>547.7</td>\n",
       "      <td>5.683200</td>\n",
       "      <td>1200</td>\n",
       "    </tr>\n",
       "    <tr>\n",
       "      <th>1</th>\n",
       "      <td>GTX-1080-Ti</td>\n",
       "      <td>11</td>\n",
       "      <td>484.0</td>\n",
       "      <td>5.669888</td>\n",
       "      <td>700</td>\n",
       "    </tr>\n",
       "    <tr>\n",
       "      <th>2</th>\n",
       "      <td>GTX-1080</td>\n",
       "      <td>8</td>\n",
       "      <td>320.0</td>\n",
       "      <td>4.436480</td>\n",
       "      <td>550</td>\n",
       "    </tr>\n",
       "    <tr>\n",
       "      <th>3</th>\n",
       "      <td>GTX-1070-Ti</td>\n",
       "      <td>8</td>\n",
       "      <td>256.0</td>\n",
       "      <td>4.093056</td>\n",
       "      <td>450</td>\n",
       "    </tr>\n",
       "    <tr>\n",
       "      <th>4</th>\n",
       "      <td>GTX-1070</td>\n",
       "      <td>8</td>\n",
       "      <td>256.0</td>\n",
       "      <td>3.231360</td>\n",
       "      <td>400</td>\n",
       "    </tr>\n",
       "    <tr>\n",
       "      <th>5</th>\n",
       "      <td>GTX-1060</td>\n",
       "      <td>6</td>\n",
       "      <td>216.0</td>\n",
       "      <td>2.186240</td>\n",
       "      <td>300</td>\n",
       "    </tr>\n",
       "    <tr>\n",
       "      <th>6</th>\n",
       "      <td>GTX-1050-Ti</td>\n",
       "      <td>4</td>\n",
       "      <td>112.0</td>\n",
       "      <td>1.483776</td>\n",
       "      <td>160</td>\n",
       "    </tr>\n",
       "  </tbody>\n",
       "</table>\n",
       "</div>"
      ],
      "text/plain": [
       "      GPU_Name  RAM_Size  Memory_Bandwidth  Processing_Power  Price\n",
       "0     Titan-XP        12             547.7          5.683200   1200\n",
       "1  GTX-1080-Ti        11             484.0          5.669888    700\n",
       "2     GTX-1080         8             320.0          4.436480    550\n",
       "3  GTX-1070-Ti         8             256.0          4.093056    450\n",
       "4     GTX-1070         8             256.0          3.231360    400\n",
       "5     GTX-1060         6             216.0          2.186240    300\n",
       "6  GTX-1050-Ti         4             112.0          1.483776    160"
      ]
     },
     "execution_count": 6,
     "metadata": {},
     "output_type": "execute_result"
    }
   ],
   "source": [
    "data"
   ]
  },
  {
   "cell_type": "code",
   "execution_count": 7,
   "metadata": {},
   "outputs": [
    {
     "data": {
      "text/plain": [
       "pandas.core.frame.DataFrame"
      ]
     },
     "execution_count": 7,
     "metadata": {},
     "output_type": "execute_result"
    }
   ],
   "source": [
    "type(data)"
   ]
  },
  {
   "cell_type": "code",
   "execution_count": 8,
   "metadata": {},
   "outputs": [
    {
     "data": {
      "text/plain": [
       "0       Titan-XP\n",
       "1    GTX-1080-Ti\n",
       "2       GTX-1080\n",
       "3    GTX-1070-Ti\n",
       "4       GTX-1070\n",
       "5       GTX-1060\n",
       "6    GTX-1050-Ti\n",
       "Name: GPU_Name, dtype: object"
      ]
     },
     "execution_count": 8,
     "metadata": {},
     "output_type": "execute_result"
    }
   ],
   "source": [
    "GPU_Name=data['GPU_Name']\n",
    "GPU_Name"
   ]
  },
  {
   "cell_type": "code",
   "execution_count": 10,
   "metadata": {},
   "outputs": [
    {
     "data": {
      "text/plain": [
       "'Titan-XP'"
      ]
     },
     "execution_count": 10,
     "metadata": {},
     "output_type": "execute_result"
    }
   ],
   "source": [
    "GPU_Name[0]"
   ]
  },
  {
   "cell_type": "code",
   "execution_count": 12,
   "metadata": {},
   "outputs": [
    {
     "data": {
      "text/plain": [
       "GPU_Name            Titan-XP\n",
       "RAM_Size                  12\n",
       "Memory_Bandwidth       547.7\n",
       "Processing_Power      5.6832\n",
       "Price                   1200\n",
       "Name: 0, dtype: object"
      ]
     },
     "execution_count": 12,
     "metadata": {},
     "output_type": "execute_result"
    }
   ],
   "source": [
    "row0 = data.iloc[0,:]\n",
    "row0"
   ]
  },
  {
   "cell_type": "code",
   "execution_count": null,
   "metadata": {},
   "outputs": [],
   "source": [
    "type(row1)"
   ]
  },
  {
   "cell_type": "code",
   "execution_count": null,
   "metadata": {},
   "outputs": [],
   "source": [
    "row1[4]"
   ]
  },
  {
   "cell_type": "code",
   "execution_count": null,
   "metadata": {},
   "outputs": [],
   "source": [
    "price = data.iloc[:,4]\n",
    "price"
   ]
  },
  {
   "cell_type": "code",
   "execution_count": null,
   "metadata": {},
   "outputs": [],
   "source": [
    "type(price)"
   ]
  },
  {
   "cell_type": "code",
   "execution_count": null,
   "metadata": {},
   "outputs": [],
   "source": [
    "price[0]"
   ]
  },
  {
   "cell_type": "code",
   "execution_count": null,
   "metadata": {},
   "outputs": [],
   "source": [
    "# loc[n] to get row n\n",
    "data.loc[0]"
   ]
  },
  {
   "cell_type": "markdown",
   "metadata": {},
   "source": [
    "convert dataframe to numpy array (2D)"
   ]
  },
  {
   "cell_type": "code",
   "execution_count": null,
   "metadata": {},
   "outputs": [],
   "source": [
    "data_np = data.values\n",
    "type(data)"
   ]
  },
  {
   "cell_type": "code",
   "execution_count": null,
   "metadata": {},
   "outputs": [],
   "source": [
    "data_np"
   ]
  },
  {
   "cell_type": "code",
   "execution_count": null,
   "metadata": {},
   "outputs": [],
   "source": [
    "data_np = data.iloc[:,1:5].values # ignore the GPU names (column 0)\n",
    "data_np"
   ]
  },
  {
   "cell_type": "code",
   "execution_count": null,
   "metadata": {},
   "outputs": [],
   "source": [
    "data_np.dtype"
   ]
  },
  {
   "cell_type": "code",
   "execution_count": null,
   "metadata": {},
   "outputs": [],
   "source": [
    "price = data.iloc[:,4].values\n",
    "type(price)"
   ]
  },
  {
   "cell_type": "code",
   "execution_count": null,
   "metadata": {},
   "outputs": [],
   "source": [
    "price"
   ]
  },
  {
   "cell_type": "markdown",
   "metadata": {},
   "source": [
    "### modify the dataframe and save the data to a file"
   ]
  },
  {
   "cell_type": "code",
   "execution_count": null,
   "metadata": {},
   "outputs": [],
   "source": [
    "data['Price'] *= 1.2"
   ]
  },
  {
   "cell_type": "code",
   "execution_count": null,
   "metadata": {
    "scrolled": true
   },
   "outputs": [],
   "source": [
    "data"
   ]
  },
  {
   "cell_type": "code",
   "execution_count": null,
   "metadata": {},
   "outputs": [],
   "source": [
    "data.to_csv('gpu_info_new.csv', index=False, sep=',')"
   ]
  }
 ],
 "metadata": {
  "kernelspec": {
   "display_name": "Python 3 (ipykernel)",
   "language": "python",
   "name": "python3"
  },
  "language_info": {
   "codemirror_mode": {
    "name": "ipython",
    "version": 3
   },
   "file_extension": ".py",
   "mimetype": "text/x-python",
   "name": "python",
   "nbconvert_exporter": "python",
   "pygments_lexer": "ipython3",
   "version": "3.9.13"
  }
 },
 "nbformat": 4,
 "nbformat_minor": 2
}
